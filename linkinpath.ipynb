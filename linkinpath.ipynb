{
 "cells": [
  {
   "cell_type": "code",
   "execution_count": 35,
   "metadata": {
    "collapsed": true
   },
   "outputs": [],
   "source": [
    "from os import path\n",
    "import glob"
   ]
  },
  {
   "cell_type": "code",
   "execution_count": 36,
   "metadata": {
    "collapsed": true
   },
   "outputs": [],
   "source": [
    "def getFileFolders(p):\n",
    "    files=[];\n",
    "    folders=[];\n",
    "    p.replace(\"\\\\\",\"/\");\n",
    "    p+=\"/*\";\n",
    "    res = glob.glob(p)\n",
    "    for i in res:\n",
    "        if path.isdir(i):\n",
    "            folders.append(i.replace(\"\\\\\",\"/\"))\n",
    "        elif path.isfile(i):\n",
    "            files.append(i.replace(\"\\\\\",\"/\"))\n",
    "    return [files,folders];"
   ]
  },
  {
   "cell_type": "code",
   "execution_count": 37,
   "metadata": {
    "collapsed": true
   },
   "outputs": [],
   "source": [
    "def getAllFiles(p):\n",
    "    filefolders = getFileFolders(p)\n",
    "    files = []\n",
    "    folders = []\n",
    "    files+=filefolders[0]\n",
    "    folders+=filefolders[1]\n",
    "    for i in folders:\n",
    "        filefolders = getFileFolders(i)\n",
    "        files+=filefolders[0]\n",
    "        folders+=filefolders[1]\n",
    "    return list(set(files))"
   ]
  },
  {
   "cell_type": "code",
   "execution_count": 38,
   "metadata": {
    "collapsed": true
   },
   "outputs": [],
   "source": [
    "def getHtmlFiles(fold):\n",
    "    allfiles = getAllFiles(fold)\n",
    "    fh = open(fold+\"/links.json\", \"w\")\n",
    "    fh.write(\"data = [\");\n",
    "    for i in allfiles:\n",
    "        if i.endswith(\".html\"):\n",
    "            ld = \"{\\\"link\\\":\\\"\"+i.replace(fold,\"\")+\"\\\"},\"\n",
    "            fh.write(ld+\"\\n\");\n",
    "    fh.write(\"]\")\n",
    "    fh.close()\n",
    "    #html"
   ]
  },
  {
   "cell_type": "code",
   "execution_count": 39,
   "metadata": {},
   "outputs": [
    {
     "name": "stdout",
     "output_type": "stream",
     "text": [
      "enter the path of root folder\n",
      " '\\' wont work, use '/' instead.\n",
      "C:/Users/5002171/OneDrive - Xchanging/html\n"
     ]
    }
   ],
   "source": [
    "fold = raw_input(\"enter the path of root folder\\n '\\\\' wont work, use '/' instead.\\n\")\n",
    "getHtmlFiles(fold)"
   ]
  }
 ],
 "metadata": {
  "kernelspec": {
   "display_name": "Python 2",
   "language": "python",
   "name": "python2"
  },
  "language_info": {
   "codemirror_mode": {
    "name": "ipython",
    "version": 2
   },
   "file_extension": ".py",
   "mimetype": "text/x-python",
   "name": "python",
   "nbconvert_exporter": "python",
   "pygments_lexer": "ipython2",
   "version": "2.7.14"
  }
 },
 "nbformat": 4,
 "nbformat_minor": 2
}
