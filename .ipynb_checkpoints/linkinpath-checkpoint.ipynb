{
 "cells": [
  {
   "cell_type": "code",
   "execution_count": 117,
   "metadata": {
    "collapsed": true
   },
   "outputs": [],
   "source": [
    "from os import path\n",
    "import glob"
   ]
  },
  {
   "cell_type": "code",
   "execution_count": 118,
   "metadata": {},
   "outputs": [],
   "source": [
    "def getFileFolders(p):\n",
    "    files=[];\n",
    "    folders=[];\n",
    "    p.replace(\"\\\\\",\"/\");\n",
    "    p+=\"/*\";\n",
    "    res = glob.glob(p)\n",
    "    for i in res:\n",
    "        if path.isdir(i):\n",
    "            folders.append(i.replace(\"\\\\\",\"/\"))\n",
    "        elif path.isfile(i):\n",
    "            files.append(i.replace(\"\\\\\",\"/\"))\n",
    "    return [files,folders];"
   ]
  },
  {
   "cell_type": "code",
   "execution_count": 119,
   "metadata": {
    "collapsed": true
   },
   "outputs": [],
   "source": [
    "def getAllFiles(p):\n",
    "    filefolders = getFileFolders(p)\n",
    "    files = []\n",
    "    folders = []\n",
    "    files+=filefolders[0]\n",
    "    folders+=filefolders[1]\n",
    "    for i in folders:\n",
    "        filefolders = getFileFolders(i)\n",
    "        files+=filefolders[0]\n",
    "        folders+=filefolders[1]\n",
    "    return list(set(files))"
   ]
  },
  {
   "cell_type": "code",
   "execution_count": 120,
   "metadata": {
    "collapsed": true
   },
   "outputs": [],
   "source": [
    "def getHtmlFiles(fold):\n",
    "    allfiles = getAllFiles(fold)\n",
    "    html=[]\n",
    "    for i in allfiles:\n",
    "        if i.endswith(\".html\"):\n",
    "            html.append(i.replace(fold,\"\"))\n",
    "    fh = open(fold+\"/links.txt\", \"w\")\n",
    "    for i in html:\n",
    "        fh.write(i+\"\\n\")\n",
    "    fh.close()\n",
    "    #html"
   ]
  },
  {
   "cell_type": "code",
   "execution_count": 123,
   "metadata": {},
   "outputs": [
    {
     "name": "stdout",
     "output_type": "stream",
     "text": [
      "enter the path of root folder\n",
      " '' wont work, use '/' instead.C:/Users/5002171/OneDrive - Xchanging/html\n",
      "C:/Users/5002171/OneDrive - Xchanging/html\n",
      "C:/Users/5002171/OneDrive - Xchanging/html/04_Navbars\n",
      "C:/Users/5002171/OneDrive - Xchanging/html/07_ImageBlog1\n",
      "C:/Users/5002171/OneDrive - Xchanging/html/09_Selector_Exercise_Starter\n",
      "C:/Users/5002171/OneDrive - Xchanging/html/blogpro\n",
      "C:/Users/5002171/OneDrive - Xchanging/html/colorgame\n",
      "C:/Users/5002171/OneDrive - Xchanging/html/dom\n",
      "C:/Users/5002171/OneDrive - Xchanging/html/image gallery\n",
      "C:/Users/5002171/OneDrive - Xchanging/html/javascript\n",
      "C:/Users/5002171/OneDrive - Xchanging/html/landingpage\n",
      "C:/Users/5002171/OneDrive - Xchanging/html/scorekeeper\n",
      "C:/Users/5002171/OneDrive - Xchanging/html/ttt\n",
      "C:/Users/5002171/OneDrive - Xchanging/html/landingpage/test folder\n",
      "C:/Users/5002171/OneDrive - Xchanging/html/ttt/another deep\n",
      "C:/Users/5002171/OneDrive - Xchanging/html/landingpage/test folder/deeper\n",
      "C:/Users/5002171/OneDrive - Xchanging/html/ttt/another deep/another muchdeep\n",
      "C:/Users/5002171/OneDrive - Xchanging/html/landingpage/test folder/deeper/muchdeeper\n"
     ]
    }
   ],
   "source": [
    "fold = raw_input(\"enter the path of root folder\\n '\\\\' wont work, use '/' instead.\")\n",
    "getHtmlFiles(fold)"
   ]
  },
  {
   "cell_type": "code",
   "execution_count": null,
   "metadata": {
    "collapsed": true
   },
   "outputs": [],
   "source": []
  },
  {
   "cell_type": "code",
   "execution_count": null,
   "metadata": {
    "collapsed": true
   },
   "outputs": [],
   "source": []
  },
  {
   "cell_type": "code",
   "execution_count": null,
   "metadata": {
    "collapsed": true
   },
   "outputs": [],
   "source": []
  },
  {
   "cell_type": "code",
   "execution_count": null,
   "metadata": {
    "collapsed": true
   },
   "outputs": [],
   "source": []
  }
 ],
 "metadata": {
  "kernelspec": {
   "display_name": "Python 2",
   "language": "python",
   "name": "python2"
  },
  "language_info": {
   "codemirror_mode": {
    "name": "ipython",
    "version": 2
   },
   "file_extension": ".py",
   "mimetype": "text/x-python",
   "name": "python",
   "nbconvert_exporter": "python",
   "pygments_lexer": "ipython2",
   "version": "2.7.14"
  }
 },
 "nbformat": 4,
 "nbformat_minor": 2
}
